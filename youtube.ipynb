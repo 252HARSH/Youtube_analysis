{
 "cells": [
  {
   "cell_type": "code",
   "execution_count": 171,
   "metadata": {},
   "outputs": [],
   "source": [
    "import pandas as pd\n",
    "import numpy as np\n",
    "import matplotlib.pyplot as plt\n",
    "import seaborn as sns"
   ]
  },
  {
   "cell_type": "code",
   "execution_count": 172,
   "metadata": {},
   "outputs": [],
   "source": [
    "data1=pd.read_csv('C:/Users/252ha/Downloads/Global YouTube Statistics.csv', encoding='unicode_escape')"
   ]
  },
  {
   "cell_type": "code",
   "execution_count": 173,
   "metadata": {},
   "outputs": [
    {
     "data": {
      "text/html": [
       "<div>\n",
       "<style scoped>\n",
       "    .dataframe tbody tr th:only-of-type {\n",
       "        vertical-align: middle;\n",
       "    }\n",
       "\n",
       "    .dataframe tbody tr th {\n",
       "        vertical-align: top;\n",
       "    }\n",
       "\n",
       "    .dataframe thead th {\n",
       "        text-align: right;\n",
       "    }\n",
       "</style>\n",
       "<table border=\"1\" class=\"dataframe\">\n",
       "  <thead>\n",
       "    <tr style=\"text-align: right;\">\n",
       "      <th></th>\n",
       "      <th>rank</th>\n",
       "      <th>Youtuber</th>\n",
       "      <th>subscribers</th>\n",
       "      <th>video views</th>\n",
       "      <th>category</th>\n",
       "      <th>Title</th>\n",
       "      <th>uploads</th>\n",
       "      <th>Country</th>\n",
       "      <th>Abbreviation</th>\n",
       "      <th>channel_type</th>\n",
       "      <th>...</th>\n",
       "      <th>subscribers_for_last_30_days</th>\n",
       "      <th>created_year</th>\n",
       "      <th>created_month</th>\n",
       "      <th>created_date</th>\n",
       "      <th>Gross tertiary education enrollment (%)</th>\n",
       "      <th>Population</th>\n",
       "      <th>Unemployment rate</th>\n",
       "      <th>Urban_population</th>\n",
       "      <th>Latitude</th>\n",
       "      <th>Longitude</th>\n",
       "    </tr>\n",
       "  </thead>\n",
       "  <tbody>\n",
       "    <tr>\n",
       "      <th>0</th>\n",
       "      <td>1</td>\n",
       "      <td>T-Series</td>\n",
       "      <td>245000000</td>\n",
       "      <td>2.280000e+11</td>\n",
       "      <td>Music</td>\n",
       "      <td>T-Series</td>\n",
       "      <td>20082</td>\n",
       "      <td>India</td>\n",
       "      <td>IN</td>\n",
       "      <td>Music</td>\n",
       "      <td>...</td>\n",
       "      <td>2000000.0</td>\n",
       "      <td>2006.0</td>\n",
       "      <td>Mar</td>\n",
       "      <td>13.0</td>\n",
       "      <td>28.1</td>\n",
       "      <td>1.366418e+09</td>\n",
       "      <td>5.36</td>\n",
       "      <td>471031528.0</td>\n",
       "      <td>20.593684</td>\n",
       "      <td>78.962880</td>\n",
       "    </tr>\n",
       "    <tr>\n",
       "      <th>1</th>\n",
       "      <td>2</td>\n",
       "      <td>YouTube Movies</td>\n",
       "      <td>170000000</td>\n",
       "      <td>0.000000e+00</td>\n",
       "      <td>Film &amp; Animation</td>\n",
       "      <td>youtubemovies</td>\n",
       "      <td>1</td>\n",
       "      <td>United States</td>\n",
       "      <td>US</td>\n",
       "      <td>Games</td>\n",
       "      <td>...</td>\n",
       "      <td>NaN</td>\n",
       "      <td>2006.0</td>\n",
       "      <td>Mar</td>\n",
       "      <td>5.0</td>\n",
       "      <td>88.2</td>\n",
       "      <td>3.282395e+08</td>\n",
       "      <td>14.70</td>\n",
       "      <td>270663028.0</td>\n",
       "      <td>37.090240</td>\n",
       "      <td>-95.712891</td>\n",
       "    </tr>\n",
       "    <tr>\n",
       "      <th>2</th>\n",
       "      <td>3</td>\n",
       "      <td>MrBeast</td>\n",
       "      <td>166000000</td>\n",
       "      <td>2.836884e+10</td>\n",
       "      <td>Entertainment</td>\n",
       "      <td>MrBeast</td>\n",
       "      <td>741</td>\n",
       "      <td>United States</td>\n",
       "      <td>US</td>\n",
       "      <td>Entertainment</td>\n",
       "      <td>...</td>\n",
       "      <td>8000000.0</td>\n",
       "      <td>2012.0</td>\n",
       "      <td>Feb</td>\n",
       "      <td>20.0</td>\n",
       "      <td>88.2</td>\n",
       "      <td>3.282395e+08</td>\n",
       "      <td>14.70</td>\n",
       "      <td>270663028.0</td>\n",
       "      <td>37.090240</td>\n",
       "      <td>-95.712891</td>\n",
       "    </tr>\n",
       "    <tr>\n",
       "      <th>3</th>\n",
       "      <td>4</td>\n",
       "      <td>Cocomelon - Nursery Rhymes</td>\n",
       "      <td>162000000</td>\n",
       "      <td>1.640000e+11</td>\n",
       "      <td>Education</td>\n",
       "      <td>Cocomelon - Nursery Rhymes</td>\n",
       "      <td>966</td>\n",
       "      <td>United States</td>\n",
       "      <td>US</td>\n",
       "      <td>Education</td>\n",
       "      <td>...</td>\n",
       "      <td>1000000.0</td>\n",
       "      <td>2006.0</td>\n",
       "      <td>Sep</td>\n",
       "      <td>1.0</td>\n",
       "      <td>88.2</td>\n",
       "      <td>3.282395e+08</td>\n",
       "      <td>14.70</td>\n",
       "      <td>270663028.0</td>\n",
       "      <td>37.090240</td>\n",
       "      <td>-95.712891</td>\n",
       "    </tr>\n",
       "    <tr>\n",
       "      <th>4</th>\n",
       "      <td>5</td>\n",
       "      <td>SET India</td>\n",
       "      <td>159000000</td>\n",
       "      <td>1.480000e+11</td>\n",
       "      <td>Shows</td>\n",
       "      <td>SET India</td>\n",
       "      <td>116536</td>\n",
       "      <td>India</td>\n",
       "      <td>IN</td>\n",
       "      <td>Entertainment</td>\n",
       "      <td>...</td>\n",
       "      <td>1000000.0</td>\n",
       "      <td>2006.0</td>\n",
       "      <td>Sep</td>\n",
       "      <td>20.0</td>\n",
       "      <td>28.1</td>\n",
       "      <td>1.366418e+09</td>\n",
       "      <td>5.36</td>\n",
       "      <td>471031528.0</td>\n",
       "      <td>20.593684</td>\n",
       "      <td>78.962880</td>\n",
       "    </tr>\n",
       "  </tbody>\n",
       "</table>\n",
       "<p>5 rows × 28 columns</p>\n",
       "</div>"
      ],
      "text/plain": [
       "   rank                    Youtuber  subscribers   video views  \\\n",
       "0     1                    T-Series    245000000  2.280000e+11   \n",
       "1     2              YouTube Movies    170000000  0.000000e+00   \n",
       "2     3                     MrBeast    166000000  2.836884e+10   \n",
       "3     4  Cocomelon - Nursery Rhymes    162000000  1.640000e+11   \n",
       "4     5                   SET India    159000000  1.480000e+11   \n",
       "\n",
       "           category                       Title  uploads        Country  \\\n",
       "0             Music                    T-Series    20082          India   \n",
       "1  Film & Animation               youtubemovies        1  United States   \n",
       "2     Entertainment                     MrBeast      741  United States   \n",
       "3         Education  Cocomelon - Nursery Rhymes      966  United States   \n",
       "4             Shows                   SET India   116536          India   \n",
       "\n",
       "  Abbreviation   channel_type  ...  subscribers_for_last_30_days  \\\n",
       "0           IN          Music  ...                     2000000.0   \n",
       "1           US          Games  ...                           NaN   \n",
       "2           US  Entertainment  ...                     8000000.0   \n",
       "3           US      Education  ...                     1000000.0   \n",
       "4           IN  Entertainment  ...                     1000000.0   \n",
       "\n",
       "   created_year  created_month  created_date  \\\n",
       "0        2006.0            Mar          13.0   \n",
       "1        2006.0            Mar           5.0   \n",
       "2        2012.0            Feb          20.0   \n",
       "3        2006.0            Sep           1.0   \n",
       "4        2006.0            Sep          20.0   \n",
       "\n",
       "   Gross tertiary education enrollment (%)    Population  Unemployment rate  \\\n",
       "0                                     28.1  1.366418e+09               5.36   \n",
       "1                                     88.2  3.282395e+08              14.70   \n",
       "2                                     88.2  3.282395e+08              14.70   \n",
       "3                                     88.2  3.282395e+08              14.70   \n",
       "4                                     28.1  1.366418e+09               5.36   \n",
       "\n",
       "   Urban_population   Latitude  Longitude  \n",
       "0       471031528.0  20.593684  78.962880  \n",
       "1       270663028.0  37.090240 -95.712891  \n",
       "2       270663028.0  37.090240 -95.712891  \n",
       "3       270663028.0  37.090240 -95.712891  \n",
       "4       471031528.0  20.593684  78.962880  \n",
       "\n",
       "[5 rows x 28 columns]"
      ]
     },
     "execution_count": 173,
     "metadata": {},
     "output_type": "execute_result"
    }
   ],
   "source": [
    "data1.head()"
   ]
  },
  {
   "cell_type": "code",
   "execution_count": 174,
   "metadata": {},
   "outputs": [
    {
     "name": "stdout",
     "output_type": "stream",
     "text": [
      "<class 'pandas.core.frame.DataFrame'>\n",
      "RangeIndex: 995 entries, 0 to 994\n",
      "Data columns (total 28 columns):\n",
      " #   Column                                   Non-Null Count  Dtype  \n",
      "---  ------                                   --------------  -----  \n",
      " 0   rank                                     995 non-null    int64  \n",
      " 1   Youtuber                                 995 non-null    object \n",
      " 2   subscribers                              995 non-null    int64  \n",
      " 3   video views                              995 non-null    float64\n",
      " 4   category                                 949 non-null    object \n",
      " 5   Title                                    995 non-null    object \n",
      " 6   uploads                                  995 non-null    int64  \n",
      " 7   Country                                  873 non-null    object \n",
      " 8   Abbreviation                             873 non-null    object \n",
      " 9   channel_type                             965 non-null    object \n",
      " 10  video_views_rank                         994 non-null    float64\n",
      " 11  country_rank                             879 non-null    float64\n",
      " 12  channel_type_rank                        962 non-null    float64\n",
      " 13  video_views_for_the_last_30_days         939 non-null    float64\n",
      " 14  lowest_monthly_earnings                  995 non-null    float64\n",
      " 15  highest_monthly_earnings                 995 non-null    float64\n",
      " 16  lowest_yearly_earnings                   995 non-null    float64\n",
      " 17  highest_yearly_earnings                  995 non-null    float64\n",
      " 18  subscribers_for_last_30_days             658 non-null    float64\n",
      " 19  created_year                             990 non-null    float64\n",
      " 20  created_month                            990 non-null    object \n",
      " 21  created_date                             990 non-null    float64\n",
      " 22  Gross tertiary education enrollment (%)  872 non-null    float64\n",
      " 23  Population                               872 non-null    float64\n",
      " 24  Unemployment rate                        872 non-null    float64\n",
      " 25  Urban_population                         872 non-null    float64\n",
      " 26  Latitude                                 872 non-null    float64\n",
      " 27  Longitude                                872 non-null    float64\n",
      "dtypes: float64(18), int64(3), object(7)\n",
      "memory usage: 217.8+ KB\n"
     ]
    }
   ],
   "source": [
    "data1.info()"
   ]
  },
  {
   "cell_type": "code",
   "execution_count": 175,
   "metadata": {},
   "outputs": [
    {
     "data": {
      "text/plain": [
       "rank                                         0\n",
       "Youtuber                                     0\n",
       "subscribers                                  0\n",
       "video views                                  0\n",
       "category                                    46\n",
       "Title                                        0\n",
       "uploads                                      0\n",
       "Country                                    122\n",
       "Abbreviation                               122\n",
       "channel_type                                30\n",
       "video_views_rank                             1\n",
       "country_rank                               116\n",
       "channel_type_rank                           33\n",
       "video_views_for_the_last_30_days            56\n",
       "lowest_monthly_earnings                      0\n",
       "highest_monthly_earnings                     0\n",
       "lowest_yearly_earnings                       0\n",
       "highest_yearly_earnings                      0\n",
       "subscribers_for_last_30_days               337\n",
       "created_year                                 5\n",
       "created_month                                5\n",
       "created_date                                 5\n",
       "Gross tertiary education enrollment (%)    123\n",
       "Population                                 123\n",
       "Unemployment rate                          123\n",
       "Urban_population                           123\n",
       "Latitude                                   123\n",
       "Longitude                                  123\n",
       "dtype: int64"
      ]
     },
     "execution_count": 175,
     "metadata": {},
     "output_type": "execute_result"
    }
   ],
   "source": [
    "pd.isnull(data1).sum()"
   ]
  },
  {
   "cell_type": "code",
   "execution_count": 176,
   "metadata": {},
   "outputs": [],
   "source": [
    "data1.dropna(inplace=True)"
   ]
  },
  {
   "cell_type": "code",
   "execution_count": 177,
   "metadata": {},
   "outputs": [
    {
     "name": "stdout",
     "output_type": "stream",
     "text": [
      "<class 'pandas.core.frame.DataFrame'>\n",
      "Index: 554 entries, 0 to 994\n",
      "Data columns (total 28 columns):\n",
      " #   Column                                   Non-Null Count  Dtype  \n",
      "---  ------                                   --------------  -----  \n",
      " 0   rank                                     554 non-null    int64  \n",
      " 1   Youtuber                                 554 non-null    object \n",
      " 2   subscribers                              554 non-null    int64  \n",
      " 3   video views                              554 non-null    float64\n",
      " 4   category                                 554 non-null    object \n",
      " 5   Title                                    554 non-null    object \n",
      " 6   uploads                                  554 non-null    int64  \n",
      " 7   Country                                  554 non-null    object \n",
      " 8   Abbreviation                             554 non-null    object \n",
      " 9   channel_type                             554 non-null    object \n",
      " 10  video_views_rank                         554 non-null    float64\n",
      " 11  country_rank                             554 non-null    float64\n",
      " 12  channel_type_rank                        554 non-null    float64\n",
      " 13  video_views_for_the_last_30_days         554 non-null    float64\n",
      " 14  lowest_monthly_earnings                  554 non-null    float64\n",
      " 15  highest_monthly_earnings                 554 non-null    float64\n",
      " 16  lowest_yearly_earnings                   554 non-null    float64\n",
      " 17  highest_yearly_earnings                  554 non-null    float64\n",
      " 18  subscribers_for_last_30_days             554 non-null    float64\n",
      " 19  created_year                             554 non-null    float64\n",
      " 20  created_month                            554 non-null    object \n",
      " 21  created_date                             554 non-null    float64\n",
      " 22  Gross tertiary education enrollment (%)  554 non-null    float64\n",
      " 23  Population                               554 non-null    float64\n",
      " 24  Unemployment rate                        554 non-null    float64\n",
      " 25  Urban_population                         554 non-null    float64\n",
      " 26  Latitude                                 554 non-null    float64\n",
      " 27  Longitude                                554 non-null    float64\n",
      "dtypes: float64(18), int64(3), object(7)\n",
      "memory usage: 125.5+ KB\n"
     ]
    }
   ],
   "source": [
    "data1.info()"
   ]
  },
  {
   "cell_type": "code",
   "execution_count": 178,
   "metadata": {},
   "outputs": [
    {
     "data": {
      "text/plain": [
       "Index(['rank', 'Youtuber', 'subscribers', 'video views', 'category', 'Title',\n",
       "       'uploads', 'Country', 'Abbreviation', 'channel_type',\n",
       "       'video_views_rank', 'country_rank', 'channel_type_rank',\n",
       "       'video_views_for_the_last_30_days', 'lowest_monthly_earnings',\n",
       "       'highest_monthly_earnings', 'lowest_yearly_earnings',\n",
       "       'highest_yearly_earnings', 'subscribers_for_last_30_days',\n",
       "       'created_year', 'created_month', 'created_date',\n",
       "       'Gross tertiary education enrollment (%)', 'Population',\n",
       "       'Unemployment rate', 'Urban_population', 'Latitude', 'Longitude'],\n",
       "      dtype='object')"
      ]
     },
     "execution_count": 178,
     "metadata": {},
     "output_type": "execute_result"
    }
   ],
   "source": [
    "data1.columns"
   ]
  },
  {
   "cell_type": "code",
   "execution_count": 179,
   "metadata": {},
   "outputs": [
    {
     "data": {
      "text/plain": [
       "(554, 28)"
      ]
     },
     "execution_count": 179,
     "metadata": {},
     "output_type": "execute_result"
    }
   ],
   "source": [
    "data.shape"
   ]
  },
  {
   "cell_type": "code",
   "execution_count": 180,
   "metadata": {},
   "outputs": [
    {
     "data": {
      "text/plain": [
       "pandas.core.frame.DataFrame"
      ]
     },
     "execution_count": 180,
     "metadata": {},
     "output_type": "execute_result"
    }
   ],
   "source": [
    "type(data1)"
   ]
  },
  {
   "cell_type": "code",
   "execution_count": 181,
   "metadata": {},
   "outputs": [
    {
     "data": {
      "text/html": [
       "<div>\n",
       "<style scoped>\n",
       "    .dataframe tbody tr th:only-of-type {\n",
       "        vertical-align: middle;\n",
       "    }\n",
       "\n",
       "    .dataframe tbody tr th {\n",
       "        vertical-align: top;\n",
       "    }\n",
       "\n",
       "    .dataframe thead th {\n",
       "        text-align: right;\n",
       "    }\n",
       "</style>\n",
       "<table border=\"1\" class=\"dataframe\">\n",
       "  <thead>\n",
       "    <tr style=\"text-align: right;\">\n",
       "      <th></th>\n",
       "      <th>rank</th>\n",
       "      <th>subscribers</th>\n",
       "      <th>video views</th>\n",
       "      <th>uploads</th>\n",
       "      <th>video_views_rank</th>\n",
       "      <th>country_rank</th>\n",
       "      <th>channel_type_rank</th>\n",
       "      <th>video_views_for_the_last_30_days</th>\n",
       "      <th>lowest_monthly_earnings</th>\n",
       "      <th>highest_monthly_earnings</th>\n",
       "      <th>...</th>\n",
       "      <th>highest_yearly_earnings</th>\n",
       "      <th>subscribers_for_last_30_days</th>\n",
       "      <th>created_year</th>\n",
       "      <th>created_date</th>\n",
       "      <th>Gross tertiary education enrollment (%)</th>\n",
       "      <th>Population</th>\n",
       "      <th>Unemployment rate</th>\n",
       "      <th>Urban_population</th>\n",
       "      <th>Latitude</th>\n",
       "      <th>Longitude</th>\n",
       "    </tr>\n",
       "  </thead>\n",
       "  <tbody>\n",
       "    <tr>\n",
       "      <th>count</th>\n",
       "      <td>554.000000</td>\n",
       "      <td>5.540000e+02</td>\n",
       "      <td>5.540000e+02</td>\n",
       "      <td>554.000000</td>\n",
       "      <td>5.540000e+02</td>\n",
       "      <td>554.000000</td>\n",
       "      <td>554.000000</td>\n",
       "      <td>5.540000e+02</td>\n",
       "      <td>554.000000</td>\n",
       "      <td>5.540000e+02</td>\n",
       "      <td>...</td>\n",
       "      <td>5.540000e+02</td>\n",
       "      <td>5.540000e+02</td>\n",
       "      <td>554.000000</td>\n",
       "      <td>554.000000</td>\n",
       "      <td>554.000000</td>\n",
       "      <td>5.540000e+02</td>\n",
       "      <td>554.000000</td>\n",
       "      <td>5.540000e+02</td>\n",
       "      <td>554.000000</td>\n",
       "      <td>554.000000</td>\n",
       "    </tr>\n",
       "    <tr>\n",
       "      <th>mean</th>\n",
       "      <td>463.828520</td>\n",
       "      <td>2.462401e+07</td>\n",
       "      <td>1.310608e+10</td>\n",
       "      <td>14758.036101</td>\n",
       "      <td>1.297121e+05</td>\n",
       "      <td>180.850181</td>\n",
       "      <td>238.034296</td>\n",
       "      <td>2.387087e+08</td>\n",
       "      <td>52604.206895</td>\n",
       "      <td>8.409689e+05</td>\n",
       "      <td>...</td>\n",
       "      <td>1.009984e+07</td>\n",
       "      <td>3.431256e+05</td>\n",
       "      <td>2012.492780</td>\n",
       "      <td>15.259928</td>\n",
       "      <td>60.533574</td>\n",
       "      <td>4.965559e+08</td>\n",
       "      <td>8.866029</td>\n",
       "      <td>2.402031e+08</td>\n",
       "      <td>25.887766</td>\n",
       "      <td>-5.850585</td>\n",
       "    </tr>\n",
       "    <tr>\n",
       "      <th>std</th>\n",
       "      <td>289.929893</td>\n",
       "      <td>1.950924e+07</td>\n",
       "      <td>1.729334e+10</td>\n",
       "      <td>44248.913413</td>\n",
       "      <td>6.815954e+05</td>\n",
       "      <td>732.093496</td>\n",
       "      <td>937.109139</td>\n",
       "      <td>4.862804e+08</td>\n",
       "      <td>76120.564578</td>\n",
       "      <td>1.216598e+06</td>\n",
       "      <td>...</td>\n",
       "      <td>1.461488e+07</td>\n",
       "      <td>5.881429e+05</td>\n",
       "      <td>4.468591</td>\n",
       "      <td>8.771828</td>\n",
       "      <td>26.365440</td>\n",
       "      <td>5.178813e+08</td>\n",
       "      <td>4.813768</td>\n",
       "      <td>1.641213e+08</td>\n",
       "      <td>20.251021</td>\n",
       "      <td>84.737945</td>\n",
       "    </tr>\n",
       "    <tr>\n",
       "      <th>min</th>\n",
       "      <td>1.000000</td>\n",
       "      <td>1.230000e+07</td>\n",
       "      <td>2.634000e+03</td>\n",
       "      <td>1.000000</td>\n",
       "      <td>1.000000e+00</td>\n",
       "      <td>1.000000</td>\n",
       "      <td>1.000000</td>\n",
       "      <td>3.000000e+00</td>\n",
       "      <td>0.000000</td>\n",
       "      <td>0.000000e+00</td>\n",
       "      <td>...</td>\n",
       "      <td>0.000000e+00</td>\n",
       "      <td>1.000000e+00</td>\n",
       "      <td>1970.000000</td>\n",
       "      <td>1.000000</td>\n",
       "      <td>7.600000</td>\n",
       "      <td>2.025060e+05</td>\n",
       "      <td>0.750000</td>\n",
       "      <td>3.558800e+04</td>\n",
       "      <td>-38.416097</td>\n",
       "      <td>-172.104629</td>\n",
       "    </tr>\n",
       "    <tr>\n",
       "      <th>25%</th>\n",
       "      <td>206.500000</td>\n",
       "      <td>1.490000e+07</td>\n",
       "      <td>5.102920e+09</td>\n",
       "      <td>436.500000</td>\n",
       "      <td>2.222500e+02</td>\n",
       "      <td>10.000000</td>\n",
       "      <td>19.000000</td>\n",
       "      <td>4.906325e+07</td>\n",
       "      <td>11625.000000</td>\n",
       "      <td>1.862750e+05</td>\n",
       "      <td>...</td>\n",
       "      <td>2.200000e+06</td>\n",
       "      <td>1.000000e+05</td>\n",
       "      <td>2009.000000</td>\n",
       "      <td>8.000000</td>\n",
       "      <td>28.100000</td>\n",
       "      <td>1.023202e+08</td>\n",
       "      <td>5.360000</td>\n",
       "      <td>5.770569e+07</td>\n",
       "      <td>20.593684</td>\n",
       "      <td>-95.712891</td>\n",
       "    </tr>\n",
       "    <tr>\n",
       "      <th>50%</th>\n",
       "      <td>448.500000</td>\n",
       "      <td>1.880000e+07</td>\n",
       "      <td>9.040989e+09</td>\n",
       "      <td>1278.000000</td>\n",
       "      <td>5.695000e+02</td>\n",
       "      <td>40.500000</td>\n",
       "      <td>48.000000</td>\n",
       "      <td>1.150635e+08</td>\n",
       "      <td>28250.000000</td>\n",
       "      <td>4.521000e+05</td>\n",
       "      <td>...</td>\n",
       "      <td>5.400000e+06</td>\n",
       "      <td>2.000000e+05</td>\n",
       "      <td>2013.000000</td>\n",
       "      <td>15.000000</td>\n",
       "      <td>60.000000</td>\n",
       "      <td>3.282395e+08</td>\n",
       "      <td>5.560000</td>\n",
       "      <td>2.706630e+08</td>\n",
       "      <td>29.843491</td>\n",
       "      <td>-3.435973</td>\n",
       "    </tr>\n",
       "    <tr>\n",
       "      <th>75%</th>\n",
       "      <td>702.750000</td>\n",
       "      <td>2.670000e+07</td>\n",
       "      <td>1.540470e+10</td>\n",
       "      <td>4142.500000</td>\n",
       "      <td>1.580500e+03</td>\n",
       "      <td>104.750000</td>\n",
       "      <td>114.500000</td>\n",
       "      <td>2.380330e+08</td>\n",
       "      <td>58825.000000</td>\n",
       "      <td>9.414000e+05</td>\n",
       "      <td>...</td>\n",
       "      <td>1.127500e+07</td>\n",
       "      <td>4.000000e+05</td>\n",
       "      <td>2015.750000</td>\n",
       "      <td>22.000000</td>\n",
       "      <td>88.200000</td>\n",
       "      <td>1.366418e+09</td>\n",
       "      <td>14.700000</td>\n",
       "      <td>4.710315e+08</td>\n",
       "      <td>37.090240</td>\n",
       "      <td>78.962880</td>\n",
       "    </tr>\n",
       "    <tr>\n",
       "      <th>max</th>\n",
       "      <td>995.000000</td>\n",
       "      <td>2.450000e+08</td>\n",
       "      <td>2.280000e+11</td>\n",
       "      <td>301308.000000</td>\n",
       "      <td>4.054962e+06</td>\n",
       "      <td>7683.000000</td>\n",
       "      <td>7670.000000</td>\n",
       "      <td>6.589000e+09</td>\n",
       "      <td>576000.000000</td>\n",
       "      <td>9.200000e+06</td>\n",
       "      <td>...</td>\n",
       "      <td>1.106000e+08</td>\n",
       "      <td>8.000000e+06</td>\n",
       "      <td>2022.000000</td>\n",
       "      <td>31.000000</td>\n",
       "      <td>113.100000</td>\n",
       "      <td>1.397715e+09</td>\n",
       "      <td>14.720000</td>\n",
       "      <td>8.429340e+08</td>\n",
       "      <td>61.524010</td>\n",
       "      <td>138.252924</td>\n",
       "    </tr>\n",
       "  </tbody>\n",
       "</table>\n",
       "<p>8 rows × 21 columns</p>\n",
       "</div>"
      ],
      "text/plain": [
       "             rank   subscribers   video views        uploads  \\\n",
       "count  554.000000  5.540000e+02  5.540000e+02     554.000000   \n",
       "mean   463.828520  2.462401e+07  1.310608e+10   14758.036101   \n",
       "std    289.929893  1.950924e+07  1.729334e+10   44248.913413   \n",
       "min      1.000000  1.230000e+07  2.634000e+03       1.000000   \n",
       "25%    206.500000  1.490000e+07  5.102920e+09     436.500000   \n",
       "50%    448.500000  1.880000e+07  9.040989e+09    1278.000000   \n",
       "75%    702.750000  2.670000e+07  1.540470e+10    4142.500000   \n",
       "max    995.000000  2.450000e+08  2.280000e+11  301308.000000   \n",
       "\n",
       "       video_views_rank  country_rank  channel_type_rank  \\\n",
       "count      5.540000e+02    554.000000         554.000000   \n",
       "mean       1.297121e+05    180.850181         238.034296   \n",
       "std        6.815954e+05    732.093496         937.109139   \n",
       "min        1.000000e+00      1.000000           1.000000   \n",
       "25%        2.222500e+02     10.000000          19.000000   \n",
       "50%        5.695000e+02     40.500000          48.000000   \n",
       "75%        1.580500e+03    104.750000         114.500000   \n",
       "max        4.054962e+06   7683.000000        7670.000000   \n",
       "\n",
       "       video_views_for_the_last_30_days  lowest_monthly_earnings  \\\n",
       "count                      5.540000e+02               554.000000   \n",
       "mean                       2.387087e+08             52604.206895   \n",
       "std                        4.862804e+08             76120.564578   \n",
       "min                        3.000000e+00                 0.000000   \n",
       "25%                        4.906325e+07             11625.000000   \n",
       "50%                        1.150635e+08             28250.000000   \n",
       "75%                        2.380330e+08             58825.000000   \n",
       "max                        6.589000e+09            576000.000000   \n",
       "\n",
       "       highest_monthly_earnings  ...  highest_yearly_earnings  \\\n",
       "count              5.540000e+02  ...             5.540000e+02   \n",
       "mean               8.409689e+05  ...             1.009984e+07   \n",
       "std                1.216598e+06  ...             1.461488e+07   \n",
       "min                0.000000e+00  ...             0.000000e+00   \n",
       "25%                1.862750e+05  ...             2.200000e+06   \n",
       "50%                4.521000e+05  ...             5.400000e+06   \n",
       "75%                9.414000e+05  ...             1.127500e+07   \n",
       "max                9.200000e+06  ...             1.106000e+08   \n",
       "\n",
       "       subscribers_for_last_30_days  created_year  created_date  \\\n",
       "count                  5.540000e+02    554.000000    554.000000   \n",
       "mean                   3.431256e+05   2012.492780     15.259928   \n",
       "std                    5.881429e+05      4.468591      8.771828   \n",
       "min                    1.000000e+00   1970.000000      1.000000   \n",
       "25%                    1.000000e+05   2009.000000      8.000000   \n",
       "50%                    2.000000e+05   2013.000000     15.000000   \n",
       "75%                    4.000000e+05   2015.750000     22.000000   \n",
       "max                    8.000000e+06   2022.000000     31.000000   \n",
       "\n",
       "       Gross tertiary education enrollment (%)    Population  \\\n",
       "count                               554.000000  5.540000e+02   \n",
       "mean                                 60.533574  4.965559e+08   \n",
       "std                                  26.365440  5.178813e+08   \n",
       "min                                   7.600000  2.025060e+05   \n",
       "25%                                  28.100000  1.023202e+08   \n",
       "50%                                  60.000000  3.282395e+08   \n",
       "75%                                  88.200000  1.366418e+09   \n",
       "max                                 113.100000  1.397715e+09   \n",
       "\n",
       "       Unemployment rate  Urban_population    Latitude   Longitude  \n",
       "count         554.000000      5.540000e+02  554.000000  554.000000  \n",
       "mean            8.866029      2.402031e+08   25.887766   -5.850585  \n",
       "std             4.813768      1.641213e+08   20.251021   84.737945  \n",
       "min             0.750000      3.558800e+04  -38.416097 -172.104629  \n",
       "25%             5.360000      5.770569e+07   20.593684  -95.712891  \n",
       "50%             5.560000      2.706630e+08   29.843491   -3.435973  \n",
       "75%            14.700000      4.710315e+08   37.090240   78.962880  \n",
       "max            14.720000      8.429340e+08   61.524010  138.252924  \n",
       "\n",
       "[8 rows x 21 columns]"
      ]
     },
     "execution_count": 181,
     "metadata": {},
     "output_type": "execute_result"
    }
   ],
   "source": [
    "data1.describe()"
   ]
  },
  {
   "cell_type": "markdown",
   "metadata": {},
   "source": [
    "Top-5 Youtuber in terms of Views"
   ]
  },
  {
   "cell_type": "code",
   "execution_count": 182,
   "metadata": {},
   "outputs": [
    {
     "data": {
      "text/html": [
       "<div>\n",
       "<style scoped>\n",
       "    .dataframe tbody tr th:only-of-type {\n",
       "        vertical-align: middle;\n",
       "    }\n",
       "\n",
       "    .dataframe tbody tr th {\n",
       "        vertical-align: top;\n",
       "    }\n",
       "\n",
       "    .dataframe thead th {\n",
       "        text-align: right;\n",
       "    }\n",
       "</style>\n",
       "<table border=\"1\" class=\"dataframe\">\n",
       "  <thead>\n",
       "    <tr style=\"text-align: right;\">\n",
       "      <th></th>\n",
       "      <th>Youtuber</th>\n",
       "      <th>video views</th>\n",
       "    </tr>\n",
       "  </thead>\n",
       "  <tbody>\n",
       "    <tr>\n",
       "      <th>410</th>\n",
       "      <td>T-Series</td>\n",
       "      <td>2.280000e+11</td>\n",
       "    </tr>\n",
       "    <tr>\n",
       "      <th>84</th>\n",
       "      <td>Cocomelon - Nursery Rhymes</td>\n",
       "      <td>1.640000e+11</td>\n",
       "    </tr>\n",
       "    <tr>\n",
       "      <th>367</th>\n",
       "      <td>SET India</td>\n",
       "      <td>1.480000e+11</td>\n",
       "    </tr>\n",
       "    <tr>\n",
       "      <th>395</th>\n",
       "      <td>Sony SAB</td>\n",
       "      <td>1.010000e+11</td>\n",
       "    </tr>\n",
       "    <tr>\n",
       "      <th>253</th>\n",
       "      <td>Like Nastya</td>\n",
       "      <td>9.047906e+10</td>\n",
       "    </tr>\n",
       "  </tbody>\n",
       "</table>\n",
       "</div>"
      ],
      "text/plain": [
       "                       Youtuber   video views\n",
       "410                    T-Series  2.280000e+11\n",
       "84   Cocomelon - Nursery Rhymes  1.640000e+11\n",
       "367                   SET India  1.480000e+11\n",
       "395                    Sony SAB  1.010000e+11\n",
       "253                 Like Nastya  9.047906e+10"
      ]
     },
     "execution_count": 182,
     "metadata": {},
     "output_type": "execute_result"
    }
   ],
   "source": [
    "top_5_view=data1.groupby(['Youtuber'],as_index=False)['video views'].sum().sort_values(by='video views',ascending=False).head()\n",
    "top_5_view"
   ]
  },
  {
   "cell_type": "code",
   "execution_count": 186,
   "metadata": {},
   "outputs": [
    {
     "name": "stderr",
     "output_type": "stream",
     "text": [
      "c:\\Program Files\\Python311\\Lib\\site-packages\\seaborn\\_oldcore.py:1498: FutureWarning: is_categorical_dtype is deprecated and will be removed in a future version. Use isinstance(dtype, CategoricalDtype) instead\n",
      "  if pd.api.types.is_categorical_dtype(vector):\n",
      "c:\\Program Files\\Python311\\Lib\\site-packages\\seaborn\\_oldcore.py:1498: FutureWarning: is_categorical_dtype is deprecated and will be removed in a future version. Use isinstance(dtype, CategoricalDtype) instead\n",
      "  if pd.api.types.is_categorical_dtype(vector):\n",
      "c:\\Program Files\\Python311\\Lib\\site-packages\\seaborn\\_oldcore.py:1498: FutureWarning: is_categorical_dtype is deprecated and will be removed in a future version. Use isinstance(dtype, CategoricalDtype) instead\n",
      "  if pd.api.types.is_categorical_dtype(vector):\n"
     ]
    },
    {
     "data": {
      "text/plain": [
       "<Axes: xlabel='Youtuber', ylabel='video views'>"
      ]
     },
     "execution_count": 186,
     "metadata": {},
     "output_type": "execute_result"
    },
    {
     "data": {
      "image/png": "[encoded data removed]",
      "text/plain": [
       "<Figure size 1500x500 with 1 Axes>"
      ]
     },
     "metadata": {},
     "output_type": "display_data"
    }
   ],
   "source": [
    "# sns.set(rc={'figure.figsize':(17,5)})\n",
    "sns.set(rc={'figure.figsize':(15,5)})\n",
    "sns.barplot(x='Youtuber',y='video views',data=top_5_view)\n",
    "\n"
   ]
  },
  {
   "cell_type": "markdown",
   "metadata": {},
   "source": [
    "Most Subsrcibed Youtube Channel"
   ]
  },
  {
   "cell_type": "code",
   "execution_count": null,
   "metadata": {},
   "outputs": [
    {
     "data": {
      "text/html": [
       "<div>\n",
       "<style scoped>\n",
       "    .dataframe tbody tr th:only-of-type {\n",
       "        vertical-align: middle;\n",
       "    }\n",
       "\n",
       "    .dataframe tbody tr th {\n",
       "        vertical-align: top;\n",
       "    }\n",
       "\n",
       "    .dataframe thead th {\n",
       "        text-align: right;\n",
       "    }\n",
       "</style>\n",
       "<table border=\"1\" class=\"dataframe\">\n",
       "  <thead>\n",
       "    <tr style=\"text-align: right;\">\n",
       "      <th></th>\n",
       "      <th>Youtuber</th>\n",
       "      <th>subscribers</th>\n",
       "    </tr>\n",
       "  </thead>\n",
       "  <tbody>\n",
       "    <tr>\n",
       "      <th>410</th>\n",
       "      <td>T-Series</td>\n",
       "      <td>245000000</td>\n",
       "    </tr>\n",
       "    <tr>\n",
       "      <th>301</th>\n",
       "      <td>MrBeast</td>\n",
       "      <td>166000000</td>\n",
       "    </tr>\n",
       "    <tr>\n",
       "      <th>84</th>\n",
       "      <td>Cocomelon - Nursery Rhymes</td>\n",
       "      <td>162000000</td>\n",
       "    </tr>\n",
       "    <tr>\n",
       "      <th>367</th>\n",
       "      <td>SET India</td>\n",
       "      <td>159000000</td>\n",
       "    </tr>\n",
       "    <tr>\n",
       "      <th>253</th>\n",
       "      <td>Like Nastya</td>\n",
       "      <td>106000000</td>\n",
       "    </tr>\n",
       "  </tbody>\n",
       "</table>\n",
       "</div>"
      ],
      "text/plain": [
       "                       Youtuber  subscribers\n",
       "410                    T-Series    245000000\n",
       "301                     MrBeast    166000000\n",
       "84   Cocomelon - Nursery Rhymes    162000000\n",
       "367                   SET India    159000000\n",
       "253                 Like Nastya    106000000"
      ]
     },
     "execution_count": 169,
     "metadata": {},
     "output_type": "execute_result"
    }
   ],
   "source": [
    "top_5_youtube_subscriber=data1.groupby(['Youtuber'],as_index=False)['subscribers'].sum().sort_values(by='subscribers',ascending=False).head()\n",
    "top_5_youtube_subscriber"
   ]
  },
  {
   "cell_type": "code",
   "execution_count": null,
   "metadata": {},
   "outputs": [
    {
     "name": "stderr",
     "output_type": "stream",
     "text": [
      "c:\\Program Files\\Python311\\Lib\\site-packages\\seaborn\\_oldcore.py:1498: FutureWarning: is_categorical_dtype is deprecated and will be removed in a future version. Use isinstance(dtype, CategoricalDtype) instead\n",
      "  if pd.api.types.is_categorical_dtype(vector):\n",
      "c:\\Program Files\\Python311\\Lib\\site-packages\\seaborn\\_oldcore.py:1498: FutureWarning: is_categorical_dtype is deprecated and will be removed in a future version. Use isinstance(dtype, CategoricalDtype) instead\n",
      "  if pd.api.types.is_categorical_dtype(vector):\n",
      "c:\\Program Files\\Python311\\Lib\\site-packages\\seaborn\\_oldcore.py:1498: FutureWarning: is_categorical_dtype is deprecated and will be removed in a future version. Use isinstance(dtype, CategoricalDtype) instead\n",
      "  if pd.api.types.is_categorical_dtype(vector):\n"
     ]
    },
    {
     "data": {
      "text/plain": [
       "<Axes: xlabel='Youtuber', ylabel='subscribers'>"
      ]
     },
     "execution_count": 170,
     "metadata": {},
     "output_type": "execute_result"
    },
    {
     "data": {
      "image/png": "[encoded data removed]",
      "text/plain": [
       "<Figure size 1500x500 with 1 Axes>"
      ]
     },
     "metadata": {},
     "output_type": "display_data"
    }
   ],
   "source": [
    "sns.barplot(x='Youtuber',y='subscribers',data=top_5_youtube_subscriber)"
   ]
  },
  {
   "cell_type": "markdown",
   "metadata": {},
   "source": [
    "No of Channel from Particular Country"
   ]
  },
  {
   "cell_type": "code",
   "execution_count": 248,
   "metadata": {},
   "outputs": [
    {
     "data": {
      "text/plain": [
       "Country\n",
       "United States     179\n",
       "India             139\n",
       "Brazil             33\n",
       "United Kingdom     26\n",
       "Indonesia          19\n",
       "Name: count, dtype: int64"
      ]
     },
     "execution_count": 248,
     "metadata": {},
     "output_type": "execute_result"
    }
   ],
   "source": [
    "channel_in_Countries=data1['Country'].value_counts().head()\n",
    "channel_in_Countries"
   ]
  },
  {
   "cell_type": "code",
   "execution_count": 249,
   "metadata": {},
   "outputs": [
    {
     "data": {
      "text/html": [
       "<div>\n",
       "<style scoped>\n",
       "    .dataframe tbody tr th:only-of-type {\n",
       "        vertical-align: middle;\n",
       "    }\n",
       "\n",
       "    .dataframe tbody tr th {\n",
       "        vertical-align: top;\n",
       "    }\n",
       "\n",
       "    .dataframe thead th {\n",
       "        text-align: right;\n",
       "    }\n",
       "</style>\n",
       "<table border=\"1\" class=\"dataframe\">\n",
       "  <thead>\n",
       "    <tr style=\"text-align: right;\">\n",
       "      <th></th>\n",
       "      <th>Country</th>\n",
       "      <th>Total_channel</th>\n",
       "    </tr>\n",
       "  </thead>\n",
       "  <tbody>\n",
       "    <tr>\n",
       "      <th>0</th>\n",
       "      <td>United States</td>\n",
       "      <td>179</td>\n",
       "    </tr>\n",
       "    <tr>\n",
       "      <th>1</th>\n",
       "      <td>India</td>\n",
       "      <td>139</td>\n",
       "    </tr>\n",
       "    <tr>\n",
       "      <th>2</th>\n",
       "      <td>Brazil</td>\n",
       "      <td>33</td>\n",
       "    </tr>\n",
       "    <tr>\n",
       "      <th>3</th>\n",
       "      <td>United Kingdom</td>\n",
       "      <td>26</td>\n",
       "    </tr>\n",
       "    <tr>\n",
       "      <th>4</th>\n",
       "      <td>Indonesia</td>\n",
       "      <td>19</td>\n",
       "    </tr>\n",
       "  </tbody>\n",
       "</table>\n",
       "</div>"
      ],
      "text/plain": [
       "          Country  Total_channel\n",
       "0   United States            179\n",
       "1           India            139\n",
       "2          Brazil             33\n",
       "3  United Kingdom             26\n",
       "4       Indonesia             19"
      ]
     },
     "execution_count": 249,
     "metadata": {},
     "output_type": "execute_result"
    }
   ],
   "source": [
    "channel_in_Countries=pd.DataFrame(channel_in_Countries)\n",
    "channel_in_Countries=channel_in_Countries.reset_index()\n",
    "channel_in_Countries.columns=['Country','Total_channel']\n",
    "channel_in_Countries"
   ]
  },
  {
   "cell_type": "code",
   "execution_count": 251,
   "metadata": {},
   "outputs": [
    {
     "data": {
      "text/plain": [
       "<BarContainer object of 5 artists>"
      ]
     },
     "execution_count": 251,
     "metadata": {},
     "output_type": "execute_result"
    },
    {
     "data": {
      "image/png": "[encoded data removed]",
      "text/plain": [
       "<Figure size 1500x500 with 1 Axes>"
      ]
     },
     "metadata": {},
     "output_type": "display_data"
    }
   ],
   "source": [
    "x=channel_in_Countries['Country']\n",
    "y=channel_in_Countries['Total_channel']\n",
    "plt.bar(x,y)"
   ]
  },
  {
   "cell_type": "code",
   "execution_count": 258,
   "metadata": {},
   "outputs": [
    {
     "name": "stderr",
     "output_type": "stream",
     "text": [
      "c:\\Program Files\\Python311\\Lib\\site-packages\\seaborn\\_oldcore.py:1498: FutureWarning: is_categorical_dtype is deprecated and will be removed in a future version. Use isinstance(dtype, CategoricalDtype) instead\n",
      "  if pd.api.types.is_categorical_dtype(vector):\n",
      "c:\\Program Files\\Python311\\Lib\\site-packages\\seaborn\\_oldcore.py:1498: FutureWarning: is_categorical_dtype is deprecated and will be removed in a future version. Use isinstance(dtype, CategoricalDtype) instead\n",
      "  if pd.api.types.is_categorical_dtype(vector):\n",
      "c:\\Program Files\\Python311\\Lib\\site-packages\\seaborn\\_oldcore.py:1498: FutureWarning: is_categorical_dtype is deprecated and will be removed in a future version. Use isinstance(dtype, CategoricalDtype) instead\n",
      "  if pd.api.types.is_categorical_dtype(vector):\n"
     ]
    },
    {
     "data": {
      "text/plain": [
       "<Axes: xlabel='Country', ylabel='Total_channel'>"
      ]
     },
     "execution_count": 258,
     "metadata": {},
     "output_type": "execute_result"
    },
    {
     "data": {
      "image/png": "[encoded data removed]",
      "text/plain": [
       "<Figure size 1500x500 with 1 Axes>"
      ]
     },
     "metadata": {},
     "output_type": "display_data"
    }
   ],
   "source": [
    "sns.barplot(x='Country', y='Total_channel', data=channel_in_Countries)\n"
   ]
  },
  {
   "cell_type": "markdown",
   "metadata": {},
   "source": [
    "channel Types"
   ]
  },
  {
   "cell_type": "code",
   "execution_count": 259,
   "metadata": {},
   "outputs": [
    {
     "data": {
      "text/plain": [
       "Index(['rank', 'Youtuber', 'subscribers', 'video views', 'category', 'Title',\n",
       "       'uploads', 'Country', 'Abbreviation', 'channel_type',\n",
       "       'video_views_rank', 'country_rank', 'channel_type_rank',\n",
       "       'video_views_for_the_last_30_days', 'lowest_monthly_earnings',\n",
       "       'highest_monthly_earnings', 'lowest_yearly_earnings',\n",
       "       'highest_yearly_earnings', 'subscribers_for_last_30_days',\n",
       "       'created_year', 'created_month', 'created_date',\n",
       "       'Gross tertiary education enrollment (%)', 'Population',\n",
       "       'Unemployment rate', 'Urban_population', 'Latitude', 'Longitude'],\n",
       "      dtype='object')"
      ]
     },
     "execution_count": 259,
     "metadata": {},
     "output_type": "execute_result"
    }
   ],
   "source": [
    "data1.columns"
   ]
  },
  {
   "cell_type": "code",
   "execution_count": 260,
   "metadata": {},
   "outputs": [
    {
     "data": {
      "text/plain": [
       "channel_type\n",
       "Entertainment    181\n",
       "Music            124\n",
       "Games             46\n",
       "People            41\n",
       "Education         36\n",
       "Comedy            30\n",
       "Film              29\n",
       "News              26\n",
       "Howto             13\n",
       "Tech              12\n",
       "Sports             9\n",
       "Animals            3\n",
       "Nonprofit          2\n",
       "Autos              2\n",
       "Name: count, dtype: int64"
      ]
     },
     "execution_count": 260,
     "metadata": {},
     "output_type": "execute_result"
    }
   ],
   "source": [
    "type_channel=data1['channel_type'].value_counts()\n",
    "type_channel"
   ]
  },
  {
   "cell_type": "code",
   "execution_count": 270,
   "metadata": {},
   "outputs": [
    {
     "data": {
      "text/plain": [
       "([<matplotlib.patches.Wedge at 0x23375a30b90>,\n",
       "  <matplotlib.patches.Wedge at 0x23375b6ba50>,\n",
       "  <matplotlib.patches.Wedge at 0x23375b699d0>,\n",
       "  <matplotlib.patches.Wedge at 0x23375b69fd0>,\n",
       "  <matplotlib.patches.Wedge at 0x23375ad8b90>,\n",
       "  <matplotlib.patches.Wedge at 0x23375b56350>,\n",
       "  <matplotlib.patches.Wedge at 0x23375b56fd0>,\n",
       "  <matplotlib.patches.Wedge at 0x23374801f10>,\n",
       "  <matplotlib.patches.Wedge at 0x23375ad8ad0>,\n",
       "  <matplotlib.patches.Wedge at 0x23375b56810>,\n",
       "  <matplotlib.patches.Wedge at 0x23376154050>],\n",
       " [Text(0.5572788316711417, 0.9483882663610129, 'Entertainment'),\n",
       "  Text(-1.0331808337419757, 0.3775412093907581, 'Music'),\n",
       "  Text(-0.8914017923646833, -0.6445175285196129, 'Games'),\n",
       "  Text(-0.47360986641666675, -0.9928210787613181, 'People'),\n",
       "  Text(-0.003158990529472108, -1.099995463981027, 'Education'),\n",
       "  Text(0.4041143504363986, -1.0230794650325887, 'Comedy'),\n",
       "  Text(0.7212143810937702, -0.8305719815305175, 'Film'),\n",
       "  Text(0.9435521244006284, -0.5654284999352803, 'News'),\n",
       "  Text(1.045574881314117, -0.34172089132063677, 'Howto'),\n",
       "  Text(1.0837124248062673, -0.1885931608529868, 'Tech'),\n",
       "  Text(1.0985308070676971, -0.056833668922516505, 'Sports')],\n",
       " [Text(0.3039702718206227, 0.5173026907423706, '33.1%'),\n",
       "  Text(-0.5635531820410775, 0.20593156875859528, '22.7%'),\n",
       "  Text(-0.4862191594716454, -0.35155501555615243, '8.4%'),\n",
       "  Text(-0.2583326544090909, -0.5415387702334462, '7.5%'),\n",
       "  Text(-0.0017230857433484226, -0.5999975258078328, '6.6%'),\n",
       "  Text(0.22042600932894466, -0.5580433445632301, '5.5%'),\n",
       "  Text(0.39338966241478374, -0.4530392626530094, '5.3%'),\n",
       "  Text(0.5146647951276154, -0.3084155454192438, '4.8%'),\n",
       "  Text(0.5703135716258819, -0.18639321344762005, '2.4%'),\n",
       "  Text(0.5911158680761458, -0.10286899682890188, '2.2%'),\n",
       "  Text(0.5991986220369256, -0.03100018304864536, '1.6%')])"
      ]
     },
     "execution_count": 270,
     "metadata": {},
     "output_type": "execute_result"
    },
    {
     "data": {
      "image/png": "[encoded data removed]",
      "text/plain": [
       "<Figure size 1500x500 with 1 Axes>"
      ]
     },
     "metadata": {},
     "output_type": "display_data"
    }
   ],
   "source": [
    "plt.pie(type_channel[:-3],colors=sns.color_palette('Set1'),labels=type_channel.index[:-3],autopct=\"%1.1f%%\")"
   ]
  },
  {
   "cell_type": "markdown",
   "metadata": {},
   "source": [
    "Relationship between views and subscriber\n"
   ]
  },
  {
   "cell_type": "code",
   "execution_count": 271,
   "metadata": {},
   "outputs": [
    {
     "data": {
      "text/plain": [
       "Index(['rank', 'Youtuber', 'subscribers', 'video views', 'category', 'Title',\n",
       "       'uploads', 'Country', 'Abbreviation', 'channel_type',\n",
       "       'video_views_rank', 'country_rank', 'channel_type_rank',\n",
       "       'video_views_for_the_last_30_days', 'lowest_monthly_earnings',\n",
       "       'highest_monthly_earnings', 'lowest_yearly_earnings',\n",
       "       'highest_yearly_earnings', 'subscribers_for_last_30_days',\n",
       "       'created_year', 'created_month', 'created_date',\n",
       "       'Gross tertiary education enrollment (%)', 'Population',\n",
       "       'Unemployment rate', 'Urban_population', 'Latitude', 'Longitude'],\n",
       "      dtype='object')"
      ]
     },
     "execution_count": 271,
     "metadata": {},
     "output_type": "execute_result"
    }
   ],
   "source": [
    "data1.columns"
   ]
  },
  {
   "cell_type": "code",
   "execution_count": 306,
   "metadata": {},
   "outputs": [
    {
     "data": {
      "text/plain": [
       "<matplotlib.collections.PathCollection at 0x233774caf50>"
      ]
     },
     "execution_count": 306,
     "metadata": {},
     "output_type": "execute_result"
    },
    {
     "data": {
      "image/png": "[encoded data removed]",
      "text/plain": [
       "<Figure size 1500x500 with 1 Axes>"
      ]
     },
     "metadata": {},
     "output_type": "display_data"
    }
   ],
   "source": [
    "data1['subscribers'] = (data1['subscribers'] / 1000000).astype(int)\n",
    "data1['video views'] = (data1['video views'] / 1000000000).astype(int)\n",
    "\n",
    "\n",
    "x=data1['subscribers']\n",
    "y=data1['video views']\n",
    "plt.scatter(x, y, c='g',alpha=0.4)"
   ]
  }
 ],
 "metadata": {
  "kernelspec": {
   "display_name": "Python 3",
   "language": "python",
   "name": "python3"
  },
  "language_info": {
   "codemirror_mode": {
    "name": "ipython",
    "version": 3
   },
   "file_extension": ".py",
   "mimetype": "text/x-python",
   "name": "python",
   "nbconvert_exporter": "python",
   "pygments_lexer": "ipython3",
   "version": "3.11.2"
  },
  "orig_nbformat": 4
 },
 "nbformat": 4,
 "nbformat_minor": 2
}
